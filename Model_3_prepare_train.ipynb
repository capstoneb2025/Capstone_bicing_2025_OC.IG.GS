{
 "cells": [
  {
   "cell_type": "code",
   "execution_count": 25,
   "metadata": {},
   "outputs": [],
   "source": [
    "import pandas as pd\n",
    "import numpy as np\n",
    "from lightgbm import LGBMRegressor\n",
    "from lightgbm import early_stopping\n",
    "from sklearn.metrics import mean_squared_error, r2_score\n",
    "from sklearn.preprocessing import LabelEncoder"
   ]
  },
  {
   "cell_type": "code",
   "execution_count": 26,
   "metadata": {},
   "outputs": [],
   "source": [
    "from my_functions import *"
   ]
  },
  {
   "cell_type": "markdown",
   "metadata": {},
   "source": [
    "## Load historical data"
   ]
  },
  {
   "cell_type": "code",
   "execution_count": 27,
   "metadata": {},
   "outputs": [],
   "source": [
    "# Load the data\n",
    "df = pd.read_csv('data/Bicing_data_merged_5.csv')\n"
   ]
  },
  {
   "cell_type": "code",
   "execution_count": 28,
   "metadata": {},
   "outputs": [],
   "source": [
    "# Read the metadata df submission\n",
    "sample = pd.read_csv('sample/metadata_sample_submission_2025.csv')\n",
    "# Read station capacity information\n",
    "stations_info = pd.read_csv('data\\Informacio_estacions_bicing_2025.csv')\n"
   ]
  },
  {
   "cell_type": "markdown",
   "metadata": {},
   "source": [
    "Take only stations used for the submission"
   ]
  },
  {
   "cell_type": "code",
   "execution_count": 29,
   "metadata": {},
   "outputs": [
    {
     "name": "stdout",
     "output_type": "stream",
     "text": [
      "Removed 20.94% of rows\n"
     ]
    }
   ],
   "source": [
    "# Filter df to only include stations that are in the df submission\n",
    "# Calculate and print percentage of rows removed\n",
    "original_rows = len(df)\n",
    "df = df[df['station_id'].isin(sample['station_id'].unique())]\n",
    "remaining_rows = len(df)\n",
    "pct_removed = ((original_rows - remaining_rows) / original_rows) * 100\n",
    "\n",
    "print(f\"Removed {pct_removed:.2f}% of rows\")"
   ]
  },
  {
   "cell_type": "markdown",
   "metadata": {},
   "source": [
    "Time column to date time"
   ]
  },
  {
   "cell_type": "code",
   "execution_count": 30,
   "metadata": {},
   "outputs": [],
   "source": [
    "time_column = 'datetime'\n",
    "\n",
    "# Combine date and hour into datetime column\n",
    "df[time_column] = pd.to_datetime(df['date']) + pd.to_timedelta(df['hour'], unit='h')"
   ]
  },
  {
   "cell_type": "markdown",
   "metadata": {},
   "source": [
    "Merge station data"
   ]
  },
  {
   "cell_type": "code",
   "execution_count": 31,
   "metadata": {},
   "outputs": [],
   "source": [
    "df=merge_station_info(df,stations_info)"
   ]
  },
  {
   "cell_type": "code",
   "execution_count": 32,
   "metadata": {},
   "outputs": [
    {
     "name": "stdout",
     "output_type": "stream",
     "text": [
      "Shape\n",
      "(14517452, 13)\n",
      "Columns with NaN values:\n",
      "[]\n",
      "Rows with NaN values:0\n"
     ]
    }
   ],
   "source": [
    "check_nan_values(df)"
   ]
  },
  {
   "cell_type": "code",
   "execution_count": 33,
   "metadata": {},
   "outputs": [
    {
     "data": {
      "text/plain": [
       "Index(['station_id', 'year', 'month', 'day', 'hour', 'date',\n",
       "       'num_docks_available', 'datetime', 'capacity', 'lat', 'lon', 'altitude',\n",
       "       'post_code'],\n",
       "      dtype='object')"
      ]
     },
     "execution_count": 33,
     "metadata": {},
     "output_type": "execute_result"
    }
   ],
   "source": [
    "df.columns"
   ]
  },
  {
   "cell_type": "code",
   "execution_count": 34,
   "metadata": {},
   "outputs": [],
   "source": [
    "# Calculate percentage of docks available\n",
    "df['percentage_docks_available'] = (df['num_docks_available'] / df['capacity'] ).round(3)"
   ]
  },
  {
   "cell_type": "code",
   "execution_count": 36,
   "metadata": {},
   "outputs": [],
   "source": [
    "day_of_week(df)"
   ]
  },
  {
   "cell_type": "code",
   "execution_count": 38,
   "metadata": {},
   "outputs": [
    {
     "name": "stdout",
     "output_type": "stream",
     "text": [
      "Rows before dropping out of boundaries percentage_docks_available values: 14517452\n",
      "Rows after dropping out of boundaries percentage_docks_available values: 14355983\n"
     ]
    }
   ],
   "source": [
    "# Drop rows where is wrong\n",
    "print(f\"Rows before dropping out of boundaries percentage_docks_available values: {len(df)}\")\n",
    "\n",
    "df = df[\n",
    "                (df['percentage_docks_available'] >= 0) & \n",
    "                (df['percentage_docks_available'] <= 1)\n",
    "                ]\n",
    "\n",
    "print(f\"Rows after dropping out of boundaries percentage_docks_available values: {len(df)}\")"
   ]
  },
  {
   "cell_type": "markdown",
   "metadata": {},
   "source": [
    "-----------"
   ]
  },
  {
   "cell_type": "markdown",
   "metadata": {},
   "source": [
    "## Feature engineering"
   ]
  },
  {
   "cell_type": "code",
   "execution_count": 39,
   "metadata": {},
   "outputs": [],
   "source": [
    "columns_to_lag_linear = ['percentage_docks_available']"
   ]
  },
  {
   "cell_type": "code",
   "execution_count": 40,
   "metadata": {},
   "outputs": [],
   "source": [
    "# Create lags for dock availability\n",
    "df=create_lags(df, df, columns_to_lag_linear, time_column=time_column)"
   ]
  },
  {
   "cell_type": "code",
   "execution_count": 41,
   "metadata": {},
   "outputs": [],
   "source": [
    "df=merge_barsa_data(df, time_column)"
   ]
  },
  {
   "cell_type": "code",
   "execution_count": 42,
   "metadata": {},
   "outputs": [
    {
     "name": "stdout",
     "output_type": "stream",
     "text": [
      "Warning during timezone localization: Cannot infer dst time from 2020-10-25 02:00:00, try using the 'ambiguous' argument\n"
     ]
    }
   ],
   "source": [
    "df=merge_weather_data(df, time_column)"
   ]
  },
  {
   "cell_type": "code",
   "execution_count": 43,
   "metadata": {},
   "outputs": [
    {
     "name": "stdout",
     "output_type": "stream",
     "text": [
      "Index(['festiu', 'holiday'], dtype='object')\n"
     ]
    }
   ],
   "source": [
    "df=merge_holiday_data(df, time_column)"
   ]
  },
  {
   "cell_type": "code",
   "execution_count": 44,
   "metadata": {},
   "outputs": [],
   "source": [
    "# Create lag lead days for use later to merge holidays\n",
    "df=create_lag_lead_days(df, time_column)"
   ]
  },
  {
   "cell_type": "code",
   "execution_count": 45,
   "metadata": {},
   "outputs": [
    {
     "name": "stdout",
     "output_type": "stream",
     "text": [
      "d_lag_1d\n",
      "Index(['festiu', 'd_lag_1d_holiday'], dtype='object')\n",
      "d_lead_1d\n",
      "Index(['festiu', 'd_lead_1d_holiday'], dtype='object')\n"
     ]
    }
   ],
   "source": [
    "# Find columns containing 'd_lag' or 'd_lead' in their names and merge holidays for those\n",
    "lag_lead_columns = [col for col in df.columns if 'd_lag' in col or 'd_lead' in col]\n",
    "\n",
    "for col in lag_lead_columns:\n",
    "    print(col)\n",
    "    prefix = col + '_'\n",
    "    df=merge_holiday_data(df,col, prefix=prefix)"
   ]
  },
  {
   "cell_type": "code",
   "execution_count": 46,
   "metadata": {},
   "outputs": [
    {
     "data": {
      "application/vnd.microsoft.datawrangler.viewer.v0+json": {
       "columns": [
        {
         "name": "index",
         "rawType": "int64",
         "type": "integer"
        },
        {
         "name": "station_id",
         "rawType": "int64",
         "type": "integer"
        },
        {
         "name": "year",
         "rawType": "int64",
         "type": "integer"
        },
        {
         "name": "month",
         "rawType": "int64",
         "type": "integer"
        },
        {
         "name": "day",
         "rawType": "int64",
         "type": "integer"
        },
        {
         "name": "hour",
         "rawType": "int64",
         "type": "integer"
        },
        {
         "name": "date",
         "rawType": "object",
         "type": "string"
        },
        {
         "name": "num_docks_available",
         "rawType": "float64",
         "type": "float"
        },
        {
         "name": "datetime",
         "rawType": "datetime64[ns]",
         "type": "datetime"
        },
        {
         "name": "capacity",
         "rawType": "int64",
         "type": "integer"
        },
        {
         "name": "lat",
         "rawType": "float64",
         "type": "float"
        },
        {
         "name": "lon",
         "rawType": "float64",
         "type": "float"
        },
        {
         "name": "altitude",
         "rawType": "float64",
         "type": "float"
        },
        {
         "name": "post_code",
         "rawType": "float64",
         "type": "float"
        },
        {
         "name": "percentage_docks_available",
         "rawType": "float64",
         "type": "float"
        },
        {
         "name": "day_of_week",
         "rawType": "int32",
         "type": "integer"
        },
        {
         "name": "lag_1h_percentage_docks_available",
         "rawType": "float64",
         "type": "float"
        },
        {
         "name": "lag_1h_is_interpolated",
         "rawType": "object",
         "type": "unknown"
        },
        {
         "name": "lag_2h_percentage_docks_available",
         "rawType": "float64",
         "type": "float"
        },
        {
         "name": "lag_2h_is_interpolated",
         "rawType": "object",
         "type": "unknown"
        },
        {
         "name": "lag_3h_percentage_docks_available",
         "rawType": "float64",
         "type": "float"
        },
        {
         "name": "lag_3h_is_interpolated",
         "rawType": "object",
         "type": "unknown"
        },
        {
         "name": "lag_4h_percentage_docks_available",
         "rawType": "float64",
         "type": "float"
        },
        {
         "name": "lag_4h_is_interpolated",
         "rawType": "object",
         "type": "unknown"
        },
        {
         "name": "FCB_Location",
         "rawType": "object",
         "type": "string"
        },
        {
         "name": "FCB_Score",
         "rawType": "object",
         "type": "string"
        },
        {
         "name": "wea_prep",
         "rawType": "float64",
         "type": "float"
        },
        {
         "name": "wea_sun",
         "rawType": "float64",
         "type": "float"
        },
        {
         "name": "wea_temp",
         "rawType": "float64",
         "type": "float"
        },
        {
         "name": "wea_wind_sp",
         "rawType": "float64",
         "type": "float"
        },
        {
         "name": "holiday",
         "rawType": "float64",
         "type": "float"
        },
        {
         "name": "d_lag_1d",
         "rawType": "datetime64[ns]",
         "type": "datetime"
        },
        {
         "name": "d_lead_1d",
         "rawType": "datetime64[ns]",
         "type": "datetime"
        },
        {
         "name": "d_lag_1d_holiday",
         "rawType": "float64",
         "type": "float"
        },
        {
         "name": "d_lead_1d_holiday",
         "rawType": "float64",
         "type": "float"
        }
       ],
       "conversionMethod": "pd.DataFrame",
       "ref": "2dbdb477-0caa-4ee2-aed4-ccf7bf01d084",
       "rows": [
        [
         "0",
         "1",
         "2019",
         "12",
         "31",
         "22",
         "2019-12-31",
         "23.0",
         "2019-12-31 22:00:00",
         "46",
         "41.3979779",
         "2.1801069",
         "16.0",
         "8013.0",
         "0.5",
         "1",
         null,
         null,
         null,
         null,
         null,
         null,
         null,
         null,
         "NoMatch",
         "NoMatch",
         "0.0",
         "0.0",
         "9.05",
         "1.7999999999999998",
         null,
         "2019-12-30 22:00:00",
         "2020-01-01 22:00:00",
         null,
         "1.0"
        ],
        [
         "1",
         "1",
         "2019",
         "12",
         "31",
         "23",
         "2019-12-31",
         "22.166666666666668",
         "2019-12-31 23:00:00",
         "46",
         "41.3979779",
         "2.1801069",
         "16.0",
         "8013.0",
         "0.482",
         "1",
         "0.5",
         "False",
         null,
         null,
         null,
         null,
         null,
         null,
         "NoMatch",
         "NoMatch",
         "0.0",
         "0.0",
         "8.7",
         "1.7",
         null,
         "2019-12-30 23:00:00",
         "2020-01-01 23:00:00",
         null,
         "1.0"
        ],
        [
         "2",
         "1",
         "2020",
         "1",
         "1",
         "0",
         "2020-01-01",
         "20.666666666666668",
         "2020-01-01 00:00:00",
         "46",
         "41.3979779",
         "2.1801069",
         "16.0",
         "8013.0",
         "0.449",
         "2",
         "0.482",
         "False",
         "0.5",
         "False",
         null,
         null,
         null,
         null,
         "NoMatch",
         "NoMatch",
         "0.0",
         "0.0",
         "8.35",
         "1.8",
         "1.0",
         "2019-12-31 00:00:00",
         "2020-01-02 00:00:00",
         null,
         null
        ],
        [
         "3",
         "1",
         "2020",
         "1",
         "1",
         "1",
         "2020-01-01",
         "17.75",
         "2020-01-01 01:00:00",
         "46",
         "41.3979779",
         "2.1801069",
         "16.0",
         "8013.0",
         "0.386",
         "2",
         "0.449",
         "False",
         "0.482",
         "False",
         "0.5",
         "False",
         null,
         null,
         "NoMatch",
         "NoMatch",
         "0.0",
         "0.0",
         "8.05",
         "1.3",
         "1.0",
         "2019-12-31 01:00:00",
         "2020-01-02 01:00:00",
         null,
         null
        ],
        [
         "4",
         "1",
         "2020",
         "1",
         "1",
         "2",
         "2020-01-01",
         "15.583333333333334",
         "2020-01-01 02:00:00",
         "46",
         "41.3979779",
         "2.1801069",
         "16.0",
         "8013.0",
         "0.339",
         "2",
         "0.386",
         "False",
         "0.449",
         "False",
         "0.482",
         "False",
         "0.5",
         "False",
         "NoMatch",
         "NoMatch",
         "0.0",
         "0.0",
         "7.85",
         "0.55",
         "1.0",
         "2019-12-31 02:00:00",
         "2020-01-02 02:00:00",
         null,
         null
        ]
       ],
       "shape": {
        "columns": 34,
        "rows": 5
       }
      },
      "text/html": [
       "<div>\n",
       "<style scoped>\n",
       "    .dataframe tbody tr th:only-of-type {\n",
       "        vertical-align: middle;\n",
       "    }\n",
       "\n",
       "    .dataframe tbody tr th {\n",
       "        vertical-align: top;\n",
       "    }\n",
       "\n",
       "    .dataframe thead th {\n",
       "        text-align: right;\n",
       "    }\n",
       "</style>\n",
       "<table border=\"1\" class=\"dataframe\">\n",
       "  <thead>\n",
       "    <tr style=\"text-align: right;\">\n",
       "      <th></th>\n",
       "      <th>station_id</th>\n",
       "      <th>year</th>\n",
       "      <th>month</th>\n",
       "      <th>day</th>\n",
       "      <th>hour</th>\n",
       "      <th>date</th>\n",
       "      <th>num_docks_available</th>\n",
       "      <th>datetime</th>\n",
       "      <th>capacity</th>\n",
       "      <th>lat</th>\n",
       "      <th>...</th>\n",
       "      <th>FCB_Score</th>\n",
       "      <th>wea_prep</th>\n",
       "      <th>wea_sun</th>\n",
       "      <th>wea_temp</th>\n",
       "      <th>wea_wind_sp</th>\n",
       "      <th>holiday</th>\n",
       "      <th>d_lag_1d</th>\n",
       "      <th>d_lead_1d</th>\n",
       "      <th>d_lag_1d_holiday</th>\n",
       "      <th>d_lead_1d_holiday</th>\n",
       "    </tr>\n",
       "  </thead>\n",
       "  <tbody>\n",
       "    <tr>\n",
       "      <th>0</th>\n",
       "      <td>1</td>\n",
       "      <td>2019</td>\n",
       "      <td>12</td>\n",
       "      <td>31</td>\n",
       "      <td>22</td>\n",
       "      <td>2019-12-31</td>\n",
       "      <td>23.000000</td>\n",
       "      <td>2019-12-31 22:00:00</td>\n",
       "      <td>46</td>\n",
       "      <td>41.397978</td>\n",
       "      <td>...</td>\n",
       "      <td>NoMatch</td>\n",
       "      <td>0.0</td>\n",
       "      <td>0.0</td>\n",
       "      <td>9.05</td>\n",
       "      <td>1.80</td>\n",
       "      <td>NaN</td>\n",
       "      <td>2019-12-30 22:00:00</td>\n",
       "      <td>2020-01-01 22:00:00</td>\n",
       "      <td>NaN</td>\n",
       "      <td>1.0</td>\n",
       "    </tr>\n",
       "    <tr>\n",
       "      <th>1</th>\n",
       "      <td>1</td>\n",
       "      <td>2019</td>\n",
       "      <td>12</td>\n",
       "      <td>31</td>\n",
       "      <td>23</td>\n",
       "      <td>2019-12-31</td>\n",
       "      <td>22.166667</td>\n",
       "      <td>2019-12-31 23:00:00</td>\n",
       "      <td>46</td>\n",
       "      <td>41.397978</td>\n",
       "      <td>...</td>\n",
       "      <td>NoMatch</td>\n",
       "      <td>0.0</td>\n",
       "      <td>0.0</td>\n",
       "      <td>8.70</td>\n",
       "      <td>1.70</td>\n",
       "      <td>NaN</td>\n",
       "      <td>2019-12-30 23:00:00</td>\n",
       "      <td>2020-01-01 23:00:00</td>\n",
       "      <td>NaN</td>\n",
       "      <td>1.0</td>\n",
       "    </tr>\n",
       "    <tr>\n",
       "      <th>2</th>\n",
       "      <td>1</td>\n",
       "      <td>2020</td>\n",
       "      <td>1</td>\n",
       "      <td>1</td>\n",
       "      <td>0</td>\n",
       "      <td>2020-01-01</td>\n",
       "      <td>20.666667</td>\n",
       "      <td>2020-01-01 00:00:00</td>\n",
       "      <td>46</td>\n",
       "      <td>41.397978</td>\n",
       "      <td>...</td>\n",
       "      <td>NoMatch</td>\n",
       "      <td>0.0</td>\n",
       "      <td>0.0</td>\n",
       "      <td>8.35</td>\n",
       "      <td>1.80</td>\n",
       "      <td>1.0</td>\n",
       "      <td>2019-12-31 00:00:00</td>\n",
       "      <td>2020-01-02 00:00:00</td>\n",
       "      <td>NaN</td>\n",
       "      <td>NaN</td>\n",
       "    </tr>\n",
       "    <tr>\n",
       "      <th>3</th>\n",
       "      <td>1</td>\n",
       "      <td>2020</td>\n",
       "      <td>1</td>\n",
       "      <td>1</td>\n",
       "      <td>1</td>\n",
       "      <td>2020-01-01</td>\n",
       "      <td>17.750000</td>\n",
       "      <td>2020-01-01 01:00:00</td>\n",
       "      <td>46</td>\n",
       "      <td>41.397978</td>\n",
       "      <td>...</td>\n",
       "      <td>NoMatch</td>\n",
       "      <td>0.0</td>\n",
       "      <td>0.0</td>\n",
       "      <td>8.05</td>\n",
       "      <td>1.30</td>\n",
       "      <td>1.0</td>\n",
       "      <td>2019-12-31 01:00:00</td>\n",
       "      <td>2020-01-02 01:00:00</td>\n",
       "      <td>NaN</td>\n",
       "      <td>NaN</td>\n",
       "    </tr>\n",
       "    <tr>\n",
       "      <th>4</th>\n",
       "      <td>1</td>\n",
       "      <td>2020</td>\n",
       "      <td>1</td>\n",
       "      <td>1</td>\n",
       "      <td>2</td>\n",
       "      <td>2020-01-01</td>\n",
       "      <td>15.583333</td>\n",
       "      <td>2020-01-01 02:00:00</td>\n",
       "      <td>46</td>\n",
       "      <td>41.397978</td>\n",
       "      <td>...</td>\n",
       "      <td>NoMatch</td>\n",
       "      <td>0.0</td>\n",
       "      <td>0.0</td>\n",
       "      <td>7.85</td>\n",
       "      <td>0.55</td>\n",
       "      <td>1.0</td>\n",
       "      <td>2019-12-31 02:00:00</td>\n",
       "      <td>2020-01-02 02:00:00</td>\n",
       "      <td>NaN</td>\n",
       "      <td>NaN</td>\n",
       "    </tr>\n",
       "  </tbody>\n",
       "</table>\n",
       "<p>5 rows × 34 columns</p>\n",
       "</div>"
      ],
      "text/plain": [
       "   station_id  year  month  day  hour        date  num_docks_available  \\\n",
       "0           1  2019     12   31    22  2019-12-31            23.000000   \n",
       "1           1  2019     12   31    23  2019-12-31            22.166667   \n",
       "2           1  2020      1    1     0  2020-01-01            20.666667   \n",
       "3           1  2020      1    1     1  2020-01-01            17.750000   \n",
       "4           1  2020      1    1     2  2020-01-01            15.583333   \n",
       "\n",
       "             datetime  capacity        lat  ...  FCB_Score  wea_prep  wea_sun  \\\n",
       "0 2019-12-31 22:00:00        46  41.397978  ...    NoMatch       0.0      0.0   \n",
       "1 2019-12-31 23:00:00        46  41.397978  ...    NoMatch       0.0      0.0   \n",
       "2 2020-01-01 00:00:00        46  41.397978  ...    NoMatch       0.0      0.0   \n",
       "3 2020-01-01 01:00:00        46  41.397978  ...    NoMatch       0.0      0.0   \n",
       "4 2020-01-01 02:00:00        46  41.397978  ...    NoMatch       0.0      0.0   \n",
       "\n",
       "   wea_temp  wea_wind_sp  holiday            d_lag_1d           d_lead_1d  \\\n",
       "0      9.05         1.80      NaN 2019-12-30 22:00:00 2020-01-01 22:00:00   \n",
       "1      8.70         1.70      NaN 2019-12-30 23:00:00 2020-01-01 23:00:00   \n",
       "2      8.35         1.80      1.0 2019-12-31 00:00:00 2020-01-02 00:00:00   \n",
       "3      8.05         1.30      1.0 2019-12-31 01:00:00 2020-01-02 01:00:00   \n",
       "4      7.85         0.55      1.0 2019-12-31 02:00:00 2020-01-02 02:00:00   \n",
       "\n",
       "  d_lag_1d_holiday  d_lead_1d_holiday  \n",
       "0              NaN                1.0  \n",
       "1              NaN                1.0  \n",
       "2              NaN                NaN  \n",
       "3              NaN                NaN  \n",
       "4              NaN                NaN  \n",
       "\n",
       "[5 rows x 34 columns]"
      ]
     },
     "execution_count": 46,
     "metadata": {},
     "output_type": "execute_result"
    }
   ],
   "source": [
    "df.head()"
   ]
  },
  {
   "cell_type": "code",
   "execution_count": 47,
   "metadata": {},
   "outputs": [],
   "source": [
    "# Create lag lead hours for use later to merge holidays\n",
    "df=create_lag_lead(df, time_column)"
   ]
  },
  {
   "cell_type": "code",
   "execution_count": 48,
   "metadata": {},
   "outputs": [
    {
     "name": "stdout",
     "output_type": "stream",
     "text": [
      "t_lag_1h\n",
      "Warning during timezone localization: Cannot infer dst time from 2020-10-25 02:00:00, try using the 'ambiguous' argument\n",
      "t_lag_2h\n",
      "Warning during timezone localization: Cannot infer dst time from 2020-10-25 02:00:00, try using the 'ambiguous' argument\n",
      "t_lag_3h\n",
      "Warning during timezone localization: Cannot infer dst time from 2020-10-25 02:00:00, try using the 'ambiguous' argument\n",
      "t_lag_4h\n",
      "Warning during timezone localization: Cannot infer dst time from 2020-10-25 02:00:00, try using the 'ambiguous' argument\n",
      "t_lead_1h\n",
      "Warning during timezone localization: Cannot infer dst time from 2020-10-25 02:00:00, try using the 'ambiguous' argument\n",
      "t_lead_2h\n",
      "Warning during timezone localization: Cannot infer dst time from 2020-10-25 02:00:00, try using the 'ambiguous' argument\n",
      "t_lead_3h\n",
      "Warning during timezone localization: Cannot infer dst time from 2020-10-25 02:00:00, try using the 'ambiguous' argument\n",
      "t_lead_4h\n",
      "Warning during timezone localization: Cannot infer dst time from 2020-10-25 02:00:00, try using the 'ambiguous' argument\n"
     ]
    }
   ],
   "source": [
    "# Find columns containing 't_lag' or 't_lead' in their names\n",
    "lag_lead_columns = [col for col in df.columns if 't_lag' in col or 't_lead' in col]\n",
    "\n",
    "\n",
    "for col in lag_lead_columns:\n",
    "    print(col)\n",
    "    prefix = col + '_'\n",
    "    df=merge_barsa_data(df,col, prefix=prefix)\n",
    "    df=merge_weather_data(df,col, prefix=prefix)"
   ]
  },
  {
   "cell_type": "code",
   "execution_count": 49,
   "metadata": {},
   "outputs": [],
   "source": [
    "# Fill NaN values in holiday-related columns\n",
    "df=fill_na_holiday_columns(df)"
   ]
  },
  {
   "cell_type": "code",
   "execution_count": 50,
   "metadata": {},
   "outputs": [],
   "source": [
    "# Remove any remaining datetime columns except the main time_column\n",
    "df=drop_non_time_column_dates(df, time_column)"
   ]
  },
  {
   "cell_type": "code",
   "execution_count": 51,
   "metadata": {},
   "outputs": [],
   "source": [
    "df.to_csv(\"data\\Train_prepared_v3.csv\", index=True, encoding=\"utf-8\")"
   ]
  },
  {
   "cell_type": "code",
   "execution_count": 52,
   "metadata": {},
   "outputs": [
    {
     "data": {
      "text/plain": [
       "Index(['station_id', 'year', 'month', 'day', 'hour', 'date',\n",
       "       'num_docks_available', 'datetime', 'capacity', 'lat', 'lon', 'altitude',\n",
       "       'post_code', 'percentage_docks_available', 'day_of_week',\n",
       "       'lag_1h_percentage_docks_available', 'lag_1h_is_interpolated',\n",
       "       'lag_2h_percentage_docks_available', 'lag_2h_is_interpolated',\n",
       "       'lag_3h_percentage_docks_available', 'lag_3h_is_interpolated',\n",
       "       'lag_4h_percentage_docks_available', 'lag_4h_is_interpolated',\n",
       "       'FCB_Location', 'FCB_Score', 'wea_prep', 'wea_sun', 'wea_temp',\n",
       "       'wea_wind_sp', 'holiday', 'd_lag_1d_holiday', 'd_lead_1d_holiday',\n",
       "       't_lag_1h_FCB_Location', 't_lag_1h_FCB_Score', 't_lag_1h_wea_prep',\n",
       "       't_lag_1h_wea_sun', 't_lag_1h_wea_temp', 't_lag_1h_wea_wind_sp',\n",
       "       't_lag_2h_FCB_Location', 't_lag_2h_FCB_Score', 't_lag_2h_wea_prep',\n",
       "       't_lag_2h_wea_sun', 't_lag_2h_wea_temp', 't_lag_2h_wea_wind_sp',\n",
       "       't_lag_3h_FCB_Location', 't_lag_3h_FCB_Score', 't_lag_3h_wea_prep',\n",
       "       't_lag_3h_wea_sun', 't_lag_3h_wea_temp', 't_lag_3h_wea_wind_sp',\n",
       "       't_lag_4h_FCB_Location', 't_lag_4h_FCB_Score', 't_lag_4h_wea_prep',\n",
       "       't_lag_4h_wea_sun', 't_lag_4h_wea_temp', 't_lag_4h_wea_wind_sp',\n",
       "       't_lead_1h_FCB_Location', 't_lead_1h_FCB_Score', 't_lead_1h_wea_prep',\n",
       "       't_lead_1h_wea_sun', 't_lead_1h_wea_temp', 't_lead_1h_wea_wind_sp',\n",
       "       't_lead_2h_FCB_Location', 't_lead_2h_FCB_Score', 't_lead_2h_wea_prep',\n",
       "       't_lead_2h_wea_sun', 't_lead_2h_wea_temp', 't_lead_2h_wea_wind_sp',\n",
       "       't_lead_3h_FCB_Location', 't_lead_3h_FCB_Score', 't_lead_3h_wea_prep',\n",
       "       't_lead_3h_wea_sun', 't_lead_3h_wea_temp', 't_lead_3h_wea_wind_sp',\n",
       "       't_lead_4h_FCB_Location', 't_lead_4h_FCB_Score', 't_lead_4h_wea_prep',\n",
       "       't_lead_4h_wea_sun', 't_lead_4h_wea_temp', 't_lead_4h_wea_wind_sp'],\n",
       "      dtype='object')"
      ]
     },
     "execution_count": 52,
     "metadata": {},
     "output_type": "execute_result"
    }
   ],
   "source": [
    "df.columns"
   ]
  },
  {
   "cell_type": "code",
   "execution_count": 53,
   "metadata": {},
   "outputs": [
    {
     "name": "stdout",
     "output_type": "stream",
     "text": [
      "<class 'pandas.core.frame.DataFrame'>\n",
      "RangeIndex: 14355983 entries, 0 to 14355982\n",
      "Data columns (total 80 columns):\n",
      " #   Column                             Dtype         \n",
      "---  ------                             -----         \n",
      " 0   station_id                         int64         \n",
      " 1   year                               int64         \n",
      " 2   month                              int64         \n",
      " 3   day                                int64         \n",
      " 4   hour                               int64         \n",
      " 5   date                               object        \n",
      " 6   num_docks_available                float64       \n",
      " 7   datetime                           datetime64[ns]\n",
      " 8   capacity                           int64         \n",
      " 9   lat                                float64       \n",
      " 10  lon                                float64       \n",
      " 11  altitude                           float64       \n",
      " 12  post_code                          float64       \n",
      " 13  percentage_docks_available         float64       \n",
      " 14  day_of_week                        int32         \n",
      " 15  lag_1h_percentage_docks_available  float64       \n",
      " 16  lag_1h_is_interpolated             object        \n",
      " 17  lag_2h_percentage_docks_available  float64       \n",
      " 18  lag_2h_is_interpolated             object        \n",
      " 19  lag_3h_percentage_docks_available  float64       \n",
      " 20  lag_3h_is_interpolated             object        \n",
      " 21  lag_4h_percentage_docks_available  float64       \n",
      " 22  lag_4h_is_interpolated             object        \n",
      " 23  FCB_Location                       object        \n",
      " 24  FCB_Score                          object        \n",
      " 25  wea_prep                           float64       \n",
      " 26  wea_sun                            float64       \n",
      " 27  wea_temp                           float64       \n",
      " 28  wea_wind_sp                        float64       \n",
      " 29  holiday                            float64       \n",
      " 30  d_lag_1d_holiday                   float64       \n",
      " 31  d_lead_1d_holiday                  float64       \n",
      " 32  t_lag_1h_FCB_Location              object        \n",
      " 33  t_lag_1h_FCB_Score                 object        \n",
      " 34  t_lag_1h_wea_prep                  float64       \n",
      " 35  t_lag_1h_wea_sun                   float64       \n",
      " 36  t_lag_1h_wea_temp                  float64       \n",
      " 37  t_lag_1h_wea_wind_sp               float64       \n",
      " 38  t_lag_2h_FCB_Location              object        \n",
      " 39  t_lag_2h_FCB_Score                 object        \n",
      " 40  t_lag_2h_wea_prep                  float64       \n",
      " 41  t_lag_2h_wea_sun                   float64       \n",
      " 42  t_lag_2h_wea_temp                  float64       \n",
      " 43  t_lag_2h_wea_wind_sp               float64       \n",
      " 44  t_lag_3h_FCB_Location              object        \n",
      " 45  t_lag_3h_FCB_Score                 object        \n",
      " 46  t_lag_3h_wea_prep                  float64       \n",
      " 47  t_lag_3h_wea_sun                   float64       \n",
      " 48  t_lag_3h_wea_temp                  float64       \n",
      " 49  t_lag_3h_wea_wind_sp               float64       \n",
      " 50  t_lag_4h_FCB_Location              object        \n",
      " 51  t_lag_4h_FCB_Score                 object        \n",
      " 52  t_lag_4h_wea_prep                  float64       \n",
      " 53  t_lag_4h_wea_sun                   float64       \n",
      " 54  t_lag_4h_wea_temp                  float64       \n",
      " 55  t_lag_4h_wea_wind_sp               float64       \n",
      " 56  t_lead_1h_FCB_Location             object        \n",
      " 57  t_lead_1h_FCB_Score                object        \n",
      " 58  t_lead_1h_wea_prep                 float64       \n",
      " 59  t_lead_1h_wea_sun                  float64       \n",
      " 60  t_lead_1h_wea_temp                 float64       \n",
      " 61  t_lead_1h_wea_wind_sp              float64       \n",
      " 62  t_lead_2h_FCB_Location             object        \n",
      " 63  t_lead_2h_FCB_Score                object        \n",
      " 64  t_lead_2h_wea_prep                 float64       \n",
      " 65  t_lead_2h_wea_sun                  float64       \n",
      " 66  t_lead_2h_wea_temp                 float64       \n",
      " 67  t_lead_2h_wea_wind_sp              float64       \n",
      " 68  t_lead_3h_FCB_Location             object        \n",
      " 69  t_lead_3h_FCB_Score                object        \n",
      " 70  t_lead_3h_wea_prep                 float64       \n",
      " 71  t_lead_3h_wea_sun                  float64       \n",
      " 72  t_lead_3h_wea_temp                 float64       \n",
      " 73  t_lead_3h_wea_wind_sp              float64       \n",
      " 74  t_lead_4h_FCB_Location             object        \n",
      " 75  t_lead_4h_FCB_Score                object        \n",
      " 76  t_lead_4h_wea_prep                 float64       \n",
      " 77  t_lead_4h_wea_sun                  float64       \n",
      " 78  t_lead_4h_wea_temp                 float64       \n",
      " 79  t_lead_4h_wea_wind_sp              float64       \n",
      "dtypes: datetime64[ns](1), float64(49), int32(1), int64(6), object(23)\n",
      "memory usage: 8.5+ GB\n"
     ]
    }
   ],
   "source": [
    "df.info()"
   ]
  },
  {
   "cell_type": "code",
   "execution_count": null,
   "metadata": {},
   "outputs": [],
   "source": []
  }
 ],
 "metadata": {
  "kernelspec": {
   "display_name": "bicing_env",
   "language": "python",
   "name": "python3"
  },
  "language_info": {
   "codemirror_mode": {
    "name": "ipython",
    "version": 3
   },
   "file_extension": ".py",
   "mimetype": "text/x-python",
   "name": "python",
   "nbconvert_exporter": "python",
   "pygments_lexer": "ipython3",
   "version": "3.8.20"
  }
 },
 "nbformat": 4,
 "nbformat_minor": 2
}
