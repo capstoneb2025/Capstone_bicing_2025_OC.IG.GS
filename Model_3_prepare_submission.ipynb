{
 "cells": [
  {
   "cell_type": "code",
   "execution_count": 17,
   "metadata": {},
   "outputs": [],
   "source": [
    "import pandas as pd\n",
    "import numpy as np\n",
    "from lightgbm import LGBMRegressor\n",
    "from lightgbm import early_stopping\n",
    "from sklearn.metrics import mean_squared_error, r2_score\n",
    "from sklearn.preprocessing import LabelEncoder\n",
    "import os\n",
    "import sys"
   ]
  },
  {
   "cell_type": "code",
   "execution_count": 18,
   "metadata": {},
   "outputs": [],
   "source": [
    "# Specify the root folder\n",
    "root_folder = r'C:\\Users\\ignas\\OneDrive\\Documents\\Postgrau_UB\\17.Capstone_project'\n",
    "\n",
    "# Walk through all subfolders and add them to sys.path\n",
    "for root, dirs, files in os.walk(root_folder):\n",
    "    sys.path.append(root)\n",
    "\n",
    "from my_functions import *"
   ]
  },
  {
   "cell_type": "code",
   "execution_count": 19,
   "metadata": {},
   "outputs": [],
   "source": [
    "# Load the data\n",
    "# df = pd.read_csv(r'C:\\Users\\ignas\\OneDrive\\Documents\\Postgrau_UB\\17.Capstone_project\\data\\Bicing_data_merged_3.csv', nrows=0)\n",
    "# Read the metadata sample submission\n",
    "sample = pd.read_csv(r'C:\\Users\\ignas\\OneDrive\\Documents\\Postgrau_UB\\17.Capstone_project\\sample\\metadata_sample_submission_2025.csv')\n",
    "# Read station capacity information\n",
    "stations_info = pd.read_csv(r'C:\\Users\\ignas\\OneDrive\\Documents\\Postgrau_UB\\17.Capstone_project\\data\\Informacio_estacions_bicing_2025.csv')"
   ]
  },
  {
   "cell_type": "code",
   "execution_count": 20,
   "metadata": {},
   "outputs": [],
   "source": [
    "time_column = 'datetime'"
   ]
  },
  {
   "cell_type": "code",
   "execution_count": 21,
   "metadata": {},
   "outputs": [],
   "source": [
    "# Merge station info\n",
    "sample = merge_station_info(sample,stations_info)\n"
   ]
  },
  {
   "cell_type": "code",
   "execution_count": 22,
   "metadata": {},
   "outputs": [],
   "source": [
    "\n",
    "# Create a mapping for ctx-1, ctx-2, ..., ctx-4 to the new names\n",
    "column_mapping = {\n",
    "    'ctx-1': 'lag_1h_percentage_docks_available',\n",
    "    'ctx-2': 'lag_2h_percentage_docks_available',\n",
    "    'ctx-3': 'lag_3h_percentage_docks_available',\n",
    "    'ctx-4': 'lag_4h_percentage_docks_available'\n",
    "}\n",
    "\n",
    "# Use the mapping to rename the columns\n",
    "sample = sample.rename(columns=column_mapping)\n",
    "\n",
    "# Add year\n",
    "sample['year']=2024\n",
    "day_of_week(sample)\n",
    "datetime(sample)\n",
    "sample[['lag_1h_is_interpolated','lag_2h_is_interpolated','lag_3h_is_interpolated','lag_4h_is_interpolated']]= False"
   ]
  },
  {
   "cell_type": "code",
   "execution_count": 23,
   "metadata": {},
   "outputs": [],
   "source": [
    "sample=merge_barsa_data(sample, time_column)\n"
   ]
  },
  {
   "cell_type": "code",
   "execution_count": 24,
   "metadata": {},
   "outputs": [
    {
     "name": "stdout",
     "output_type": "stream",
     "text": [
      "Warning during timezone localization: Cannot infer dst time from 2020-10-25 02:00:00, try using the 'ambiguous' argument\n"
     ]
    }
   ],
   "source": [
    "sample=merge_weather_data(sample, time_column)"
   ]
  },
  {
   "cell_type": "code",
   "execution_count": 25,
   "metadata": {},
   "outputs": [
    {
     "name": "stdout",
     "output_type": "stream",
     "text": [
      "Index(['festiu', 'holiday'], dtype='object')\n"
     ]
    }
   ],
   "source": [
    "sample=merge_holiday_data(sample, time_column)"
   ]
  },
  {
   "cell_type": "code",
   "execution_count": null,
   "metadata": {},
   "outputs": [],
   "source": [
    "\n"
   ]
  },
  {
   "cell_type": "code",
   "execution_count": 26,
   "metadata": {},
   "outputs": [],
   "source": [
    "sample=create_lag_lead_days(sample, time_column)"
   ]
  },
  {
   "cell_type": "code",
   "execution_count": 27,
   "metadata": {},
   "outputs": [
    {
     "name": "stdout",
     "output_type": "stream",
     "text": [
      "d_lag_1d\n",
      "Index(['festiu', 'd_lag_1d_holiday'], dtype='object')\n",
      "d_lead_1d\n",
      "Index(['festiu', 'd_lead_1d_holiday'], dtype='object')\n"
     ]
    }
   ],
   "source": [
    "# Find columns containing 'd_lag' or 'd_lead' in their names\n",
    "lag_lead_columns = [col for col in sample.columns if 'd_lag' in col or 'd_lead' in col]\n",
    "\n",
    "for col in lag_lead_columns:\n",
    "    print(col)\n",
    "    prefix = col + '_'\n",
    "    sample=merge_holiday_data(sample,col, prefix=prefix)"
   ]
  },
  {
   "cell_type": "code",
   "execution_count": 28,
   "metadata": {},
   "outputs": [],
   "source": [
    "sample=create_lag_lead(sample, time_column)"
   ]
  },
  {
   "cell_type": "code",
   "execution_count": 29,
   "metadata": {},
   "outputs": [
    {
     "name": "stdout",
     "output_type": "stream",
     "text": [
      "Warning during timezone localization: Cannot infer dst time from 2020-10-25 02:00:00, try using the 'ambiguous' argument\n",
      "Warning during timezone localization: Cannot infer dst time from 2020-10-25 02:00:00, try using the 'ambiguous' argument\n",
      "Warning during timezone localization: Cannot infer dst time from 2020-10-25 02:00:00, try using the 'ambiguous' argument\n",
      "Warning during timezone localization: Cannot infer dst time from 2020-10-25 02:00:00, try using the 'ambiguous' argument\n",
      "Warning during timezone localization: Cannot infer dst time from 2020-10-25 02:00:00, try using the 'ambiguous' argument\n",
      "Warning during timezone localization: Cannot infer dst time from 2020-10-25 02:00:00, try using the 'ambiguous' argument\n",
      "Warning during timezone localization: Cannot infer dst time from 2020-10-25 02:00:00, try using the 'ambiguous' argument\n",
      "Warning during timezone localization: Cannot infer dst time from 2020-10-25 02:00:00, try using the 'ambiguous' argument\n"
     ]
    }
   ],
   "source": [
    "# Find columns containing 't_lag' or 't_lead' in their names\n",
    "lag_lead_columns = [col for col in sample.columns if 't_lag' in col or 't_lead' in col]\n",
    "\n",
    "\n",
    "for col in lag_lead_columns:\n",
    "    prefix = col + '_'\n",
    "    sample=merge_barsa_data(sample,col, prefix=prefix)\n",
    "    sample=merge_weather_data(sample,col, prefix=prefix)"
   ]
  },
  {
   "cell_type": "code",
   "execution_count": 30,
   "metadata": {},
   "outputs": [],
   "source": [
    "sample=fill_na_holiday_columns(sample)"
   ]
  },
  {
   "cell_type": "code",
   "execution_count": 31,
   "metadata": {},
   "outputs": [],
   "source": [
    "# Remove any remaining datetime columns except the main time_column\n",
    "sample=drop_non_time_column_dates(sample, time_column)"
   ]
  },
  {
   "cell_type": "code",
   "execution_count": 32,
   "metadata": {},
   "outputs": [],
   "source": [
    "sample.to_csv(\"data\\Metadata_prepared_v2.csv\", index=True, encoding=\"utf-8\")"
   ]
  },
  {
   "cell_type": "code",
   "execution_count": 33,
   "metadata": {},
   "outputs": [
    {
     "data": {
      "text/plain": [
       "Index(['index', 'station_id', 'month', 'day', 'hour',\n",
       "       'lag_4h_percentage_docks_available',\n",
       "       'lag_3h_percentage_docks_available',\n",
       "       'lag_2h_percentage_docks_available',\n",
       "       'lag_1h_percentage_docks_available', 'capacity', 'lat', 'lon',\n",
       "       'altitude', 'post_code', 'year', 'day_of_week', 'datetime',\n",
       "       'lag_1h_is_interpolated', 'lag_2h_is_interpolated',\n",
       "       'lag_3h_is_interpolated', 'lag_4h_is_interpolated', 'FCB_Location',\n",
       "       'FCB_Score', 'wea_prep', 'wea_sun', 'wea_temp', 'wea_wind_sp',\n",
       "       'holiday', 'd_lag_1d_holiday', 'd_lead_1d_holiday',\n",
       "       't_lag_1h_FCB_Location', 't_lag_1h_FCB_Score', 't_lag_1h_wea_prep',\n",
       "       't_lag_1h_wea_sun', 't_lag_1h_wea_temp', 't_lag_1h_wea_wind_sp',\n",
       "       't_lag_2h_FCB_Location', 't_lag_2h_FCB_Score', 't_lag_2h_wea_prep',\n",
       "       't_lag_2h_wea_sun', 't_lag_2h_wea_temp', 't_lag_2h_wea_wind_sp',\n",
       "       't_lag_3h_FCB_Location', 't_lag_3h_FCB_Score', 't_lag_3h_wea_prep',\n",
       "       't_lag_3h_wea_sun', 't_lag_3h_wea_temp', 't_lag_3h_wea_wind_sp',\n",
       "       't_lag_4h_FCB_Location', 't_lag_4h_FCB_Score', 't_lag_4h_wea_prep',\n",
       "       't_lag_4h_wea_sun', 't_lag_4h_wea_temp', 't_lag_4h_wea_wind_sp',\n",
       "       't_lead_1h_FCB_Location', 't_lead_1h_FCB_Score', 't_lead_1h_wea_prep',\n",
       "       't_lead_1h_wea_sun', 't_lead_1h_wea_temp', 't_lead_1h_wea_wind_sp',\n",
       "       't_lead_2h_FCB_Location', 't_lead_2h_FCB_Score', 't_lead_2h_wea_prep',\n",
       "       't_lead_2h_wea_sun', 't_lead_2h_wea_temp', 't_lead_2h_wea_wind_sp',\n",
       "       't_lead_3h_FCB_Location', 't_lead_3h_FCB_Score', 't_lead_3h_wea_prep',\n",
       "       't_lead_3h_wea_sun', 't_lead_3h_wea_temp', 't_lead_3h_wea_wind_sp',\n",
       "       't_lead_4h_FCB_Location', 't_lead_4h_FCB_Score', 't_lead_4h_wea_prep',\n",
       "       't_lead_4h_wea_sun', 't_lead_4h_wea_temp', 't_lead_4h_wea_wind_sp'],\n",
       "      dtype='object')"
      ]
     },
     "execution_count": 33,
     "metadata": {},
     "output_type": "execute_result"
    }
   ],
   "source": [
    "sample.columns"
   ]
  },
  {
   "cell_type": "code",
   "execution_count": null,
   "metadata": {},
   "outputs": [],
   "source": []
  }
 ],
 "metadata": {
  "kernelspec": {
   "display_name": "forecasting_env",
   "language": "python",
   "name": "python3"
  },
  "language_info": {
   "codemirror_mode": {
    "name": "ipython",
    "version": 3
   },
   "file_extension": ".py",
   "mimetype": "text/x-python",
   "name": "python",
   "nbconvert_exporter": "python",
   "pygments_lexer": "ipython3",
   "version": "3.11.11"
  }
 },
 "nbformat": 4,
 "nbformat_minor": 2
}
